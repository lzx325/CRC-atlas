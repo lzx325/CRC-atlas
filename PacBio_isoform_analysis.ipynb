{
 "cells": [
  {
   "cell_type": "code",
   "execution_count": 1,
   "metadata": {},
   "outputs": [],
   "source": [
    "import pandas as pd\n",
    "import numpy as np\n",
    "import re\n",
    "import os\n",
    "from copy import copy\n",
    "from os.path import join\n",
    "from gtfparse import read_gtf\n",
    "import csv\n",
    "import pickle as pkl\n",
    "from pprint import pprint\n",
    "from BCBio.GFF import GFFExaminer\n",
    "from utils.gtf_io import my_gtf_read,my_gtf_write,CategorizedGTF\n",
    "from utils.isoform_classes import genePredReader, genePredRecord, reference_genePred_TSS_TTS_parser\n",
    "from utils.transcriptomic_features.shared_classes import \\\n",
    "    SharedTTS, SharedTSS, SharedExon, SharedJunction, SharedSpliceSite, SharedTranscriptStructure\n",
    "from utils.transcriptomic_features.ref_classes import RefTranscriptIsoform\n",
    "from utils.transcriptomic_features.parse_transcriptomic_features import reference_genePred_parser\n",
    "from utils.isoform_analysis import ReferenceSharedFeatureCollection,GffCompareMergedTranscripts,SupportInfo\n",
    "from collections import defaultdict\n",
    "from copy import copy\n",
    "from bx.intervals import Interval, IntervalTree\n",
    "from matplotlib_venn import venn3_unweighted,venn3\n",
    "import matplotlib as mpl\n",
    "import matplotlib.pyplot as plt\n",
    "from tqdm import tqdm\n",
    "import time\n",
    "from utils.file_utils import read_bed,write_bed\n",
    "import pyfaidx\n",
    "from utils.transcriptomic_features.ref_classes import TranscriptIsoformWithSeq\n",
    "from Bio.Seq import Seq\n",
    "from Bio import SeqIO\n",
    "import seaborn as sns\n",
    "from scipy.stats import mannwhitneyu\n",
    "import scipy.sparse as sp\n",
    "import anndata as ad\n",
    "from sklearn.preprocessing import normalize\n",
    "\n",
    "sns.set_style(\"white\")\n",
    "COLOR = 'black'\n",
    "mpl.rcParams['text.color'] = COLOR\n",
    "mpl.rcParams['axes.labelcolor'] = COLOR\n",
    "mpl.rcParams['axes.edgecolor'] = COLOR\n",
    "mpl.rcParams['xtick.color'] = COLOR\n",
    "mpl.rcParams['ytick.color'] = COLOR\n",
    "mpl.rcParams['axes.edgecolor'] = COLOR\n",
    "mpl.rcParams['figure.dpi'] = 150\n",
    "mpl.rcParams['pdf.fonttype'] = 'truetype'\n",
    "\n",
    "%load_ext autoreload\n",
    "%autoreload 2\n",
    "%load_ext jupyter_spaces"
   ]
  },
  {
   "cell_type": "markdown",
   "metadata": {},
   "source": [
    "# Processing of Query Transcripts"
   ]
  },
  {
   "cell_type": "code",
   "execution_count": 2,
   "metadata": {},
   "outputs": [],
   "source": [
    "def get_sqanti_sample_fp(sample_name):\n",
    "    SQUANTI3_output_dn=\"SQANTI3_ref_gtf_merged_2\"\n",
    "    pacbio_analysis_root=\"PacBio/downstream\"\n",
    "    sqanti_dir=os.path.join(pacbio_analysis_root,\"{}/{}\".format(sample_name,SQUANTI3_output_dn))\n",
    "    sqanti_sample_fp_dict = {\n",
    "        \"filtered_lite_classification\":os.path.join(\n",
    "            sqanti_dir,\"{}.aligned.5merge.collapsed_classification.filtered_lite_classification.txt\".format(sample_name)\n",
    "        ),\n",
    "        \"filtered_lite_gtf\":os.path.join(\n",
    "            sqanti_dir,\"{}.aligned.5merge.collapsed_classification.filtered_lite.gtf\".format(sample_name)\n",
    "        ),\n",
    "        \"filtered_lite_junctions\":os.path.join(\n",
    "            sqanti_dir,\"{}.aligned.5merge.collapsed_classification.filtered_lite_junctions.txt\".format(sample_name)\n",
    "        ),\n",
    "        \"collate_df\":os.path.join(\n",
    "            sqanti_dir,\"{}.aligned.annotated.csv\".format(sample_name)\n",
    "        ),\n",
    "        \"genePred\":os.path.join(\n",
    "            sqanti_dir,\"{}.aligned.5merge.collapsed_corrected.genePred\".format(sample_name)\n",
    "        )\n",
    "    }\n",
    "    for fp in sqanti_sample_fp_dict.values():\n",
    "        assert os.path.exists(fp)\n",
    "    return sqanti_sample_fp_dict\n",
    "\n",
    "def get_suppa2_event_fp(event_name):\n",
    "    pacbio_analysis_root=\"PacBio/downstream\"\n",
    "    suppa2_events_dir=os.path.join(pacbio_analysis_root,\"combined/combined_filter_gtfs/SUPPA2_events\")\n",
    "    suppa2_event_fp=join(\n",
    "        suppa2_events_dir,\n",
    "        \"gffcmp.query.all_samples.local_events_{}_strict.ioe\".format(event_name)\n",
    "    )\n",
    "    return suppa2_event_fp\n",
    "    "
   ]
  },
  {
   "cell_type": "code",
   "execution_count": 3,
   "metadata": {},
   "outputs": [
    {
     "name": "stdout",
     "output_type": "stream",
     "text": [
      "===============Loading reference genePred===============\n"
     ]
    },
    {
     "name": "stderr",
     "output_type": "stream",
     "text": [
      "100%|█████████████████████████████████████████████████████████████████████████████████████████████████████████████████████████████████████████████████████████████████████████████████████████████████████████████████████████████████| 358366/358366 [02:57<00:00, 2017.64it/s]\n"
     ]
    },
    {
     "name": "stdout",
     "output_type": "stream",
     "text": [
      "# dropped transcript isoforms:  24463\n",
      "===============Loading reference TSS&TTS===============\n",
      "Parsing TSS...\n"
     ]
    },
    {
     "name": "stderr",
     "output_type": "stream",
     "text": [
      "100%|████████████████████████████████████████████████████████████████████████████████████████████████████████████████████████████████████████████████████████████████████████████████████████████████████████████████████████████████| 281974/281974 [00:18<00:00, 15044.82it/s]\n"
     ]
    },
    {
     "name": "stdout",
     "output_type": "stream",
     "text": [
      "Parsing TTS...\n"
     ]
    },
    {
     "name": "stderr",
     "output_type": "stream",
     "text": [
      "100%|████████████████████████████████████████████████████████████████████████████████████████████████████████████████████████████████████████████████████████████████████████████████████████████████████████████████████████████████| 756752/756752 [01:00<00:00, 12580.59it/s]\n"
     ]
    },
    {
     "name": "stdout",
     "output_type": "stream",
     "text": [
      "===============Loading class_df for each sample===============\n",
      "Loading class_df for PS017-T1.1...finished\n",
      "Loading class_df for PS017-T2...finished\n",
      "Loading class_df for PS018-N...finished\n",
      "Loading class_df for PS018-T...finished\n",
      "Loading class_df for PS021-N...finished\n",
      "Loading class_df for PS025-T...finished\n",
      "Loading class_df for PS026-N2...finished\n",
      "Loading class_df for PS026-T...finished\n",
      "Loading class_df for PS028-T...finished\n",
      "Loading collate_info for PS017-T1.1\n"
     ]
    },
    {
     "name": "stderr",
     "output_type": "stream",
     "text": [
      "100%|████████████████████████████████████████████████████████████████████████████████████████████████████████████████████████████████████████████████████████████████████████████████████████████████████████████████████████████████| 279678/279678 [00:12<00:00, 22351.74it/s]\n"
     ]
    },
    {
     "name": "stdout",
     "output_type": "stream",
     "text": [
      "Loading collate_info for PS017-T2\n"
     ]
    },
    {
     "name": "stderr",
     "output_type": "stream",
     "text": [
      "100%|████████████████████████████████████████████████████████████████████████████████████████████████████████████████████████████████████████████████████████████████████████████████████████████████████████████████████████████████| 303583/303583 [00:13<00:00, 22139.18it/s]\n"
     ]
    },
    {
     "name": "stdout",
     "output_type": "stream",
     "text": [
      "Loading collate_info for PS018-N\n"
     ]
    },
    {
     "name": "stderr",
     "output_type": "stream",
     "text": [
      "100%|████████████████████████████████████████████████████████████████████████████████████████████████████████████████████████████████████████████████████████████████████████████████████████████████████████████████████████████████| 209643/209643 [00:09<00:00, 22234.83it/s]\n"
     ]
    },
    {
     "name": "stdout",
     "output_type": "stream",
     "text": [
      "Loading collate_info for PS018-T\n"
     ]
    },
    {
     "name": "stderr",
     "output_type": "stream",
     "text": [
      "100%|████████████████████████████████████████████████████████████████████████████████████████████████████████████████████████████████████████████████████████████████████████████████████████████████████████████████████████████████| 185907/185907 [00:08<00:00, 22379.26it/s]\n"
     ]
    },
    {
     "name": "stdout",
     "output_type": "stream",
     "text": [
      "Loading collate_info for PS021-N\n"
     ]
    },
    {
     "name": "stderr",
     "output_type": "stream",
     "text": [
      "100%|██████████████████████████████████████████████████████████████████████████████████████████████████████████████████████████████████████████████████████████████████████████████████████████████████████████████████████████████████| 57153/57153 [00:02<00:00, 23313.12it/s]\n"
     ]
    },
    {
     "name": "stdout",
     "output_type": "stream",
     "text": [
      "Loading collate_info for PS025-T\n"
     ]
    },
    {
     "name": "stderr",
     "output_type": "stream",
     "text": [
      "100%|████████████████████████████████████████████████████████████████████████████████████████████████████████████████████████████████████████████████████████████████████████████████████████████████████████████████████████████████████| 8144/8144 [00:00<00:00, 23440.45it/s]\n"
     ]
    },
    {
     "name": "stdout",
     "output_type": "stream",
     "text": [
      "Loading collate_info for PS026-N2\n"
     ]
    },
    {
     "name": "stderr",
     "output_type": "stream",
     "text": [
      "100%|████████████████████████████████████████████████████████████████████████████████████████████████████████████████████████████████████████████████████████████████████████████████████████████████████████████████████████████████| 179500/179500 [00:07<00:00, 23439.06it/s]\n"
     ]
    },
    {
     "name": "stdout",
     "output_type": "stream",
     "text": [
      "Loading collate_info for PS026-T\n"
     ]
    },
    {
     "name": "stderr",
     "output_type": "stream",
     "text": [
      "100%|████████████████████████████████████████████████████████████████████████████████████████████████████████████████████████████████████████████████████████████████████████████████████████████████████████████████████████████████████| 6422/6422 [00:00<00:00, 22737.92it/s]\n"
     ]
    },
    {
     "name": "stdout",
     "output_type": "stream",
     "text": [
      "Loading collate_info for PS028-T\n"
     ]
    },
    {
     "name": "stderr",
     "output_type": "stream",
     "text": [
      "100%|████████████████████████████████████████████████████████████████████████████████████████████████████████████████████████████████████████████████████████████████████████████████████████████████████████████████████████████████| 207433/207433 [00:08<00:00, 23265.00it/s]\n"
     ]
    },
    {
     "name": "stdout",
     "output_type": "stream",
     "text": [
      "===============filter cells by collate df UMI===============\n",
      "sample: PS017-T1.1 original #CB: 52215 after filter #CB: 265\n",
      "sample: PS017-T2 original #CB: 37779 after filter #CB: 231\n",
      "sample: PS018-N original #CB: 34141 after filter #CB: 244\n",
      "sample: PS018-T original #CB: 44869 after filter #CB: 452\n",
      "sample: PS021-N original #CB: 31440 after filter #CB: 246\n",
      "sample: PS025-T original #CB: 6062 after filter #CB: 240\n",
      "sample: PS026-N2 original #CB: 43360 after filter #CB: 314\n",
      "sample: PS026-T original #CB: 5376 after filter #CB: 74\n",
      "sample: PS028-T original #CB: 32216 after filter #CB: 131\n",
      "===============filter cells by Illumina barcodes===============\n",
      "sample_name: PS018-N, before filter #CB: 244, after filter #CB: 241\n",
      "sample_name: PS017-T1.1, before filter #CB: 265, after filter #CB: 229\n",
      "sample_name: PS025-T, before filter #CB: 240, after filter #CB: 172\n",
      "sample_name: PS018-T, before filter #CB: 452, after filter #CB: 452\n",
      "sample_name: PS021-N, before filter #CB: 246, after filter #CB: 245\n",
      "sample_name: PS026-N2, before filter #CB: 314, after filter #CB: 314\n",
      "sample_name: PS017-T2, before filter #CB: 231, after filter #CB: 225\n",
      "sample_name: PS028-T, before filter #CB: 131, after filter #CB: 116\n",
      "sample_name: PS026-T, before filter #CB: 74, after filter #CB: 8\n"
     ]
    }
   ],
   "source": [
    "from utils.isoform_analysis import GroupedIsoformV2\n",
    "# Small sample analysis\n",
    "if True:\n",
    "    UMI_threshold={\n",
    "        'PS017-T2':100,\n",
    "        'PS017-T1.1':100,\n",
    "        'PS018-N':100,\n",
    "        'PS018-T':100,\n",
    "        'PS021-N':15,\n",
    "        'PS025-T':4,\n",
    "        'PS026-N2':100,\n",
    "        'PS026-T':4,\n",
    "        'PS028-T':100\n",
    "    }\n",
    "    \n",
    "    reference_fp={\n",
    "        \"reference_genePred_fp\":\"PacBio/downstream/combined/refAnnotation.fromgtf.genePred\",\n",
    "        \"TSS_bed_fp\":\"references/TSS/TSS.merged.formatted.win48.bed\",\n",
    "        \"TTS_bed_fp\":\"references/polyA/TTS.merged.formatted.win48.bed\"\n",
    "    }\n",
    "    sample_name_map={\n",
    "        1:\"PS017-T1.1\",\n",
    "        2:\"PS017-T2\",\n",
    "        3:\"PS018-N\",\n",
    "        4:\"PS018-T\",\n",
    "        5:\"PS021-N\",\n",
    "        6:\"PS025-T\",\n",
    "        7:\"PS026-N2\",\n",
    "        8:\"PS026-T\",\n",
    "        9:\"PS028-T\"\n",
    "    }\n",
    "\n",
    "    \n",
    "suppa2_event_fp={\n",
    "    \"suppa2_local_event_fp\":{\n",
    "        \"A3\":\"PacBio/downstream/combined/combined_filter_gtfs/SUPPA2_events_BS/gffcmp.query.all_samples.local_events_A3_strict.ioe\",\n",
    "        \"A5\":\"PacBio/downstream/combined/combined_filter_gtfs/SUPPA2_events_BS/gffcmp.query.all_samples.local_events_A5_strict.ioe\",\n",
    "        \"MX\":\"PacBio/downstream/combined/combined_filter_gtfs/SUPPA2_events_BS/gffcmp.query.all_samples.local_events_MX_strict.ioe\",\n",
    "        \"RI\":\"PacBio/downstream/combined/combined_filter_gtfs/SUPPA2_events_BS/gffcmp.query.all_samples.local_events_RI_strict.ioe\",\n",
    "        \"SE\":\"PacBio/downstream/combined/combined_filter_gtfs/SUPPA2_events_BS/gffcmp.query.all_samples.local_events_SE_strict.ioe\",\n",
    "        \"AF\":\"PacBio/downstream/combined/combined_filter_gtfs/SUPPA2_events_BV/gffcmp.query.all_samples.local_events_AF_variable_48.ioe\",\n",
    "        \"AL\":\"PacBio/downstream/combined/combined_filter_gtfs/SUPPA2_events_BV/gffcmp.query.all_samples.local_events_AL_variable_48.ioe\",\n",
    "    },\n",
    "    \"gffcmp_tracking_fp\":\"PacBio/downstream/combined/combined_filter_gtfs/gffcmp.query.all_samples.tracking\"\n",
    "}\n",
    "\n",
    "sample_analysis_fp={\n",
    "    k:get_sqanti_sample_fp(k) for k in sample_name_map.values()\n",
    "}\n",
    "\n",
    "gffcmp_fp={\n",
    "    \"genePred_fp\":\"PacBio/downstream/combined/combined_filter_gtfs/gffcmp.query.all_samples.combined.genePred\",\n",
    "    \"gffcmp_gtf_fp\":\"PacBio/downstream/combined/combined_filter_gtfs/gffcmp.query.all_samples.combined.gtf\",\n",
    "    \"gffcmp_tracking_fp\":\"PacBio/downstream/combined/combined_filter_gtfs/gffcmp.query.all_samples.tracking\",\n",
    "    \"filtered_lite_classification\":\"PacBio/downstream/combined/combined_filter_gtfs/SQANTI3_ref_gtf_merged_2/gffcmp.query.all_samples.combined_classification.txt\"\n",
    "}\n",
    "\n",
    "chained_fp={\n",
    "    \"chained_tracking_fp\":\"PacBio/chain/SQANTI3_ref_gtf_merged_2/all_samples.chained_ids.filtered2_lite.txt\",\n",
    "    \"genePred_fp\":\"PacBio/chain/SQANTI3_ref_gtf_merged_2/all_samples.chained_classification.filtered2_lite.genePred\",\n",
    "    \"filtered_lite_classification\":\"PacBio/chain/SQANTI3_ref_gtf_merged_2/all_samples.chained_classification.filtered2_lite_classification.txt\"\n",
    "}\n",
    "\n",
    "giv2=GroupedIsoformV2(\n",
    "    sample_name_map=sample_name_map,\n",
    "    sample_analysis_fp=sample_analysis_fp,\n",
    "    reference_fp=reference_fp,\n",
    "    UMI_threshold=UMI_threshold,\n",
    "    load_ref_collection=True,\n",
    "    suppa2_event_fp=suppa2_event_fp,\n",
    "    gffcmp_fp=gffcmp_fp,\n",
    "    chained_fp=chained_fp,\n",
    "    test_mode=False\n",
    ")"
   ]
  },
  {
   "cell_type": "code",
   "execution_count": 4,
   "metadata": {
    "scrolled": false
   },
   "outputs": [
    {
     "name": "stdout",
     "output_type": "stream",
     "text": [
      "Parsing Isoforms in PS017-T1.1\n"
     ]
    },
    {
     "name": "stderr",
     "output_type": "stream",
     "text": [
      "100%|████████████████████████████████████████████████████████████████████████████████████████████████████████████████████████████████████████████████████████████████████████████████████████████████████████████████████████████████| 108731/108731 [00:07<00:00, 14624.53it/s]\n"
     ]
    },
    {
     "name": "stdout",
     "output_type": "stream",
     "text": [
      "Parsing Isoforms in PS017-T2\n"
     ]
    },
    {
     "name": "stderr",
     "output_type": "stream",
     "text": [
      "100%|█████████████████████████████████████████████████████████████████████████████████████████████████████████████████████████████████████████████████████████████████████████████████████████████████████████████████████████████████| 249721/249721 [00:37<00:00, 6739.42it/s]\n"
     ]
    },
    {
     "name": "stdout",
     "output_type": "stream",
     "text": [
      "Parsing Isoforms in PS018-N\n"
     ]
    },
    {
     "name": "stderr",
     "output_type": "stream",
     "text": [
      "100%|████████████████████████████████████████████████████████████████████████████████████████████████████████████████████████████████████████████████████████████████████████████████████████████████████████████████████████████████| 155720/155720 [00:10<00:00, 15472.96it/s]\n"
     ]
    },
    {
     "name": "stdout",
     "output_type": "stream",
     "text": [
      "Parsing Isoforms in PS018-T\n"
     ]
    },
    {
     "name": "stderr",
     "output_type": "stream",
     "text": [
      "100%|██████████████████████████████████████████████████████████████████████████████████████████████████████████████████████████████████████████████████████████████████████████████████████████████████████████████████████████████████| 98411/98411 [00:06<00:00, 14133.07it/s]\n"
     ]
    },
    {
     "name": "stdout",
     "output_type": "stream",
     "text": [
      "Parsing Isoforms in PS021-N\n"
     ]
    },
    {
     "name": "stderr",
     "output_type": "stream",
     "text": [
      "100%|██████████████████████████████████████████████████████████████████████████████████████████████████████████████████████████████████████████████████████████████████████████████████████████████████████████████████████████████████| 65004/65004 [00:03<00:00, 16363.89it/s]\n"
     ]
    },
    {
     "name": "stdout",
     "output_type": "stream",
     "text": [
      "Parsing Isoforms in PS025-T\n"
     ]
    },
    {
     "name": "stderr",
     "output_type": "stream",
     "text": [
      "100%|████████████████████████████████████████████████████████████████████████████████████████████████████████████████████████████████████████████████████████████████████████████████████████████████████████████████████████████████████| 3868/3868 [00:00<00:00, 14398.09it/s]\n"
     ]
    },
    {
     "name": "stdout",
     "output_type": "stream",
     "text": [
      "Parsing Isoforms in PS026-N2\n"
     ]
    },
    {
     "name": "stderr",
     "output_type": "stream",
     "text": [
      "100%|████████████████████████████████████████████████████████████████████████████████████████████████████████████████████████████████████████████████████████████████████████████████████████████████████████████████████████████████| 156486/156486 [00:09<00:00, 16361.57it/s]\n"
     ]
    },
    {
     "name": "stdout",
     "output_type": "stream",
     "text": [
      "Parsing Isoforms in PS026-T\n"
     ]
    },
    {
     "name": "stderr",
     "output_type": "stream",
     "text": [
      "100%|██████████████████████████████████████████████████████████████████████████████████████████████████████████████████████████████████████████████████████████████████████████████████████████████████████████████████████████████████████| 713/713 [00:00<00:00, 12858.16it/s]\n"
     ]
    },
    {
     "name": "stdout",
     "output_type": "stream",
     "text": [
      "Parsing Isoforms in PS028-T\n"
     ]
    },
    {
     "name": "stderr",
     "output_type": "stream",
     "text": [
      "100%|██████████████████████████████████████████████████████████████████████████████████████████████████████████████████████████████████████████████████████████████████████████████████████████████████████████████████████████████████| 98372/98372 [00:08<00:00, 11233.82it/s]\n"
     ]
    }
   ],
   "source": [
    "giv2.parse_query_transcript_isoform(parse_exon=False,parse_junction=False,parse_tss_tts=False)"
   ]
  },
  {
   "cell_type": "code",
   "execution_count": 5,
   "metadata": {},
   "outputs": [
    {
     "name": "stderr",
     "output_type": "stream",
     "text": [
      "100%|█████████████████████████████████████████████████████████████████████████████████████████████████████████████████████████████████████████████████████████████████████████████████████████████████████████████████████████████████| 125205/125205 [00:49<00:00, 2519.43it/s]\n"
     ]
    }
   ],
   "source": [
    "giv2.parse_gffcmp_merged_transcript_isoform()"
   ]
  },
  {
   "cell_type": "code",
   "execution_count": 1,
   "metadata": {},
   "outputs": [],
   "source": [
    "giv2.parse_suppa2_events()"
   ]
  },
  {
   "cell_type": "code",
   "execution_count": 7,
   "metadata": {},
   "outputs": [
    {
     "name": "stdout",
     "output_type": "stream",
     "text": [
      "Processing gffcmp transcripts\n"
     ]
    },
    {
     "name": "stderr",
     "output_type": "stream",
     "text": [
      "100%|███████████████████████████████████████████████████████████████████████████████████████████████████████████████████████████████████████████████████████████████████████████████████████████████████████████████████████████████| 125205/125205 [00:01<00:00, 120159.77it/s]\n"
     ]
    }
   ],
   "source": [
    "giv2.differential_analysis(\n",
    "    chained_transcripts=False,\n",
    "    ref_collections=False,\n",
    "    gffcmp_transcripts=True,\n",
    "    suppa2_events=False\n",
    ")"
   ]
  },
  {
   "cell_type": "code",
   "execution_count": null,
   "metadata": {},
   "outputs": [],
   "source": [
    "giv2.print_shared_features(print_example=False)"
   ]
  },
  {
   "cell_type": "markdown",
   "metadata": {},
   "source": [
    "## Statistical test by event-level sparse matrix"
   ]
  },
  {
   "cell_type": "code",
   "execution_count": 13,
   "metadata": {},
   "outputs": [
    {
     "name": "stdout",
     "output_type": "stream",
     "text": [
      "constructing isoform level count matrix:\n"
     ]
    },
    {
     "name": "stderr",
     "output_type": "stream",
     "text": [
      "100%|███████████████████████████████████████████████████████████████████████████████████████████████████████████████████████████████████████████████████████████████████████████████████████████████████████████████████████████████| 125205/125205 [00:00<00:00, 168471.15it/s]\n"
     ]
    },
    {
     "name": "stdout",
     "output_type": "stream",
     "text": [
      "Computing cell identity stats\n",
      "Computing cell identity stats\n",
      "Computing cell identity stats\n",
      "Computing cell identity stats\n",
      "Computing cell identity stats\n",
      "Computing cell identity stats\n",
      "differential_analysis of Epi stem vs rest\n",
      "Performing Fisher exact test...\n"
     ]
    },
    {
     "name": "stderr",
     "output_type": "stream",
     "text": [
      "100%|██████████████████████████████████████████████████████████████████████████████████████████████████████████████████████████████████████████████████████████████████████████████████████████████████████████████████████████████████| 125205/125205 [03:43<00:00, 560.96it/s]\n"
     ]
    },
    {
     "name": "stdout",
     "output_type": "stream",
     "text": [
      "Performing MWU Test...\n",
      "Computing Percentage...\n",
      "Computing LogFC...\n",
      "differential_analysis of Epi goblet_lineage vs Epi stem\n",
      "Performing Fisher exact test...\n"
     ]
    },
    {
     "name": "stderr",
     "output_type": "stream",
     "text": [
      "100%|██████████████████████████████████████████████████████████████████████████████████████████████████████████████████████████████████████████████████████████████████████████████████████████████████████████████████████████████████| 125205/125205 [03:11<00:00, 654.71it/s]\n"
     ]
    },
    {
     "name": "stdout",
     "output_type": "stream",
     "text": [
      "Performing MWU Test...\n",
      "Computing Percentage...\n",
      "Computing LogFC...\n",
      "differential_analysis of Epi enterocyte_lineage vs Epi stem\n",
      "Performing Fisher exact test...\n"
     ]
    },
    {
     "name": "stderr",
     "output_type": "stream",
     "text": [
      " 61%|██████████████████████████████████████████████████████████████████████████████████████████████████████████████████████████████████████████▋                                                                                        | 76481/125205 [02:03<01:29, 543.52it/s]IOPub data rate exceeded.\n",
      "The notebook server will temporarily stop sending output\n",
      "to the client in order to avoid crashing it.\n",
      "To change this limit, set the config variable\n",
      "`--NotebookApp.iopub_data_rate_limit`.\n",
      "\n",
      "Current values:\n",
      "NotebookApp.iopub_data_rate_limit=1000000.0 (bytes/sec)\n",
      "NotebookApp.rate_limit_window=3.0 (secs)\n",
      "\n",
      "100%|██████████████████████████████████████████████████████████████████████████████████████████████████████████████████████████████████████████████████████████████████████████████████████████████████████████████████████████████████| 125205/125205 [03:03<00:00, 680.48it/s]\n"
     ]
    },
    {
     "name": "stdout",
     "output_type": "stream",
     "text": [
      "Performing MWU Test...\n",
      "Computing Percentage...\n",
      "Computing LogFC...\n",
      "differential_analysis of EpiT stem 02 vs Epi stem 02\n",
      "Performing Fisher exact test...\n"
     ]
    },
    {
     "name": "stderr",
     "output_type": "stream",
     "text": [
      "100%|██████████████████████████████████████████████████████████████████████████████████████████████████████████████████████████████████████████████████████████████████████████████████████████████████████████████████████████████████| 125205/125205 [03:21<00:00, 622.72it/s]\n"
     ]
    },
    {
     "name": "stdout",
     "output_type": "stream",
     "text": [
      "Performing MWU Test...\n",
      "Computing Percentage...\n",
      "Computing LogFC...\n",
      "differential_analysis of EpiT stem 03 vs Epi stem 03\n",
      "Performing Fisher exact test...\n"
     ]
    },
    {
     "name": "stderr",
     "output_type": "stream",
     "text": [
      "100%|██████████████████████████████████████████████████████████████████████████████████████████████████████████████████████████████████████████████████████████████████████████████████████████████████████████████████████████████████| 125205/125205 [03:57<00:00, 526.85it/s]\n"
     ]
    },
    {
     "name": "stdout",
     "output_type": "stream",
     "text": [
      "Performing MWU Test...\n",
      "Computing Percentage...\n",
      "Computing LogFC...\n"
     ]
    },
    {
     "name": "stderr",
     "output_type": "stream",
     "text": [
      "100%|████████████████████████████████████████████████████████████████████████████████████████████████████████████████████████████████████████████████████████████████████████████████████████████████████████████████████████████████| 125205/125205 [00:04<00:00, 25455.33it/s]\n"
     ]
    }
   ],
   "source": [
    "from scipy.stats import fisher_exact,mannwhitneyu\n",
    "from collections import Counter\n",
    "def MWU_rank_sum_test(self,count_ad,feature_id=None,group1=\"Epi_tumor\",group2=\"Epi_normal\",illumina_intersect=False,log1p=True):\n",
    "    if type(group1)==str:\n",
    "        group1=self.illumina_sample_info.cell_type_sets_pacbio_intersect[\"Epi_tumor\"]\n",
    "    if type(group2)==str:\n",
    "        group2=self.illumina_sample_info.cell_type_sets_pacbio_intersect[\"Epi_normal\"]\n",
    "    else:\n",
    "        if illumina_intersect:\n",
    "            group1=self.cell_barcodes_illumina_intersect.intersection(group1)\n",
    "            group2=self.cell_barcodes_illumina_intersect.intersection(group2)\n",
    "    \n",
    "    group1=list(group1)\n",
    "    group2=list(group2)\n",
    "    if feature_id is None:\n",
    "        x=count_ad[group1,:].X.toarray()\n",
    "        y=count_ad[group2,:].X.toarray()\n",
    "    else:\n",
    "        x=count_ad[group1,feature_id].X.toarray()[:,0]\n",
    "        y=count_ad[group2,feature_id].X.toarray()[:,0]\n",
    "    print(\"Performing MWU Test...\")\n",
    "    p_vals_MWU=mannwhitneyu(x,y,axis=0).pvalue\n",
    "    \n",
    "    print(\"Computing Percentage...\")\n",
    "    pct1=(x>0).sum(axis=0)/len(group1)\n",
    "    pct2=(y>0).sum(axis=0)/len(group2)\n",
    "    \n",
    "    print(\"Computing LogFC...\")\n",
    "    if log1p:\n",
    "        logfc=np.log1p(np.mean(np.expm1(x),axis=0))-np.log1p(np.mean(np.expm1(y),axis=0))\n",
    "    else:\n",
    "        logfc=np.log1p(np.mean(x),axis=0)-np.log1p(np.mean(y,axis=0))\n",
    "        \n",
    "    return {\n",
    "        \"pct1\":pct1,\n",
    "        \"pct2\":pct2,\n",
    "        \"logfc\":logfc,\n",
    "        \"pvalue\":p_vals_MWU\n",
    "    }\n",
    "\n",
    "def fisher_exact_test(\n",
    "    self,count_ad,feature_id=None,group1=\"Epi_tumor\",group2=\"Epi_normal\",illumina_intersect=False,log1p=True\n",
    "):\n",
    "    if type(group1)==str:\n",
    "        group1=self.illumina_sample_info.cell_type_sets_pacbio_intersect[\"Epi_tumor\"]\n",
    "    if type(group2)==str:\n",
    "        group2=self.illumina_sample_info.cell_type_sets_pacbio_intersect[\"Epi_normal\"]\n",
    "    else:\n",
    "        if illumina_intersect:\n",
    "            group1=self.cell_barcodes_illumina_intersect.intersection(group1)\n",
    "            group2=self.cell_barcodes_illumina_intersect.intersection(group2)\n",
    "            \n",
    "    group1=list(group1)\n",
    "    group2=list(group2)\n",
    "    \n",
    "    if feature_id is None:\n",
    "        feature_id=list(count_ad.var.index)\n",
    "    if type(feature_id)==str:\n",
    "        feature_id=[feature_id]\n",
    "        \n",
    "    odds_ratio_list=list()\n",
    "    pvalue_list=list()\n",
    "    ctable_list=list()\n",
    "    print(\"Performing Fisher exact test...\")\n",
    "    for fid in tqdm(feature_id):\n",
    "        group1_pos=count_ad[group1,fid].X.nnz\n",
    "        group1_neg=len(group1)-group1_pos\n",
    "        group2_pos=count_ad[group2,fid].X.nnz\n",
    "        group2_neg=len(group2)-group2_pos\n",
    "        ctable=np.array([group1_pos,group1_neg,group2_pos,group2_neg])\n",
    "        oddsr, p=fisher_exact(ctable.reshape((2,2)),alternative=\"two-sided\")\n",
    "        odds_ratio_list.append(oddsr)\n",
    "        pvalue_list.append(p)\n",
    "        ctable_list.append(ctable)\n",
    "    \n",
    "    if len(pvalue_list)==1:\n",
    "        odds_ratio_list=odds_ratio_list[0]\n",
    "        pvalue_list=pvalue_list[0]\n",
    "        ctable_list=ctable_list[0]\n",
    "        \n",
    "    return {\n",
    "        \"oddsr\":odds_ratio_list,\n",
    "        \"pvalue\":pvalue_list,\n",
    "        \"ctable\":ctable_list\n",
    "    }\n",
    "\n",
    "def cell_identity_stats2(self,count_ad,map_identity_type,log1p=False):\n",
    "    print(\"Computing cell identity stats\")\n",
    "    identity_type_sets=defaultdict(set)\n",
    "    for barcode in count_ad.obs.index:\n",
    "        identity=map_identity_type(barcode)\n",
    "        identity_type_sets[identity].add(barcode)\n",
    "    identity_type_sets={k:list(v) for k,v in identity_type_sets.items()}\n",
    "    identity_type_stats={k:len(v) for k,v in identity_type_sets.items()}\n",
    "    \n",
    "    cell_identity_stats=dict()\n",
    "    for feature_id in tqdm(count_ad.var.index):\n",
    "        stats=defaultdict(lambda : list([0,0]))\n",
    "#         for identity_type,identity_barcodes in identity_type_sets.items():\n",
    "#             stats[identity_type][0]=count_ad[identity_barcodes,feature_id].X.nnz\n",
    "#             if log1p:\n",
    "#                 stats[identity][1]=np.log1p(count_ad[identity_barcodes,feature_id].X.expm1().sum()/len(identity_barcodes))\n",
    "#             else:\n",
    "#                 stats[identity][1]=count_ad[identity_barcodes,feature_id].X.sum()\n",
    "        for barcode in count_ad.obs.index[(count_ad[:,feature_id].X>0).nonzero()[0]]:\n",
    "            identity=map_identity_type(barcode)\n",
    "            stats[identity][0]+=1\n",
    "            if log1p:\n",
    "                stats[identity][1]+=np.expm1(count_ad[barcode,feature_id].X[0,0])\n",
    "            else:\n",
    "                stats[identity][1]+=count_ad[barcode,feature_id].X[0,0]\n",
    "        if log1p:\n",
    "            for identity in stats.keys():\n",
    "                stats[identity][1]=np.log1p(stats[identity][1]/identity_type_stats[identity])\n",
    "        cell_identity_stats[feature_id]=dict(stats)\n",
    "    return cell_identity_stats\n",
    "            \n",
    "def isoform_level_count_matrix(self):\n",
    "    obs_names=list(self.cell_barcodes_all)\n",
    "    obs_names2index=dict(zip(obs_names,range(len(obs_names))))\n",
    "    var_names=[\n",
    "        feature_id \n",
    "        for feature_id, feature in self.gffcmp_merged_transcripts.shared_iso_by_id.items() \n",
    "        if \"differential_analysis\" in feature.associated_data\n",
    "    ]\n",
    "    var_names2index=dict(zip(var_names,range(len(var_names))))\n",
    "    raw_count_matrix_data=list()\n",
    "    raw_count_matrix_row=list()\n",
    "    raw_count_matrix_col=list()\n",
    "    \n",
    "    print(\"constructing isoform level count matrix:\")\n",
    "    \n",
    "    for feature_id,feature in tqdm(self.gffcmp_merged_transcripts.shared_iso_by_id.items()):\n",
    "        if \"differential_analysis\" in feature.associated_data: \n",
    "            support_info=feature.associated_data[\"differential_analysis\"][\"support_info\"]\n",
    "            CB_UMI_counts=support_info.get_supporting_CB_UMI_counts()\n",
    "            CB_UMI_counts={k:v for k,v in CB_UMI_counts.items() if k in obs_names2index}\n",
    "            \n",
    "            for cb, umi_count in CB_UMI_counts.items():\n",
    "                value=umi_count\n",
    "                row_idx=obs_names2index[cb]\n",
    "                col_idx=var_names2index[feature_id]\n",
    "                raw_count_matrix_data.append(value)\n",
    "                raw_count_matrix_row.append(row_idx)\n",
    "                raw_count_matrix_col.append(col_idx)\n",
    "            \n",
    "    counts_matrix_csr=sp.csr_matrix(\n",
    "        (raw_count_matrix_data,(raw_count_matrix_row,raw_count_matrix_col)),\n",
    "        shape=(len(obs_names2index),len(var_names2index))\n",
    "    )\n",
    "    \n",
    "    counts_matrix_ad=ad.AnnData(counts_matrix_csr,dtype=np.int64)\n",
    "    counts_matrix_ad.obs_names=obs_names\n",
    "    counts_matrix_ad.var_names=var_names\n",
    "    \n",
    "    data_matrix_csr=(normalize(counts_matrix_csr,axis=1,norm=\"l1\")*1e4).log1p()\n",
    "    data_matrix_ad=ad.AnnData(data_matrix_csr,dtype=np.float64)\n",
    "    data_matrix_ad.obs_names=obs_names\n",
    "    data_matrix_ad.var_names=var_names\n",
    "    return counts_matrix_ad, data_matrix_ad\n",
    "#     result=MWU_rank_sum_test(self,CB_UMI_counts,illumina_intersect=True)\n",
    "#     feature.associated_data[\"differential_analysis\"][\"MWU_test\"]=result\n",
    "def cell_identity_stats(self,count_ad,map_identity_type,log1p=False,exclusion=list()):\n",
    "    print(\"Computing cell identity stats\")\n",
    "    subset_agg_list=list()\n",
    "    n_barcodes_nonzero_list=list()\n",
    "    # map cell identities\n",
    "    obs_names2index=dict(zip(count_ad.obs.index,range(count_ad.shape[0])))\n",
    "    var_names2index=dict(zip(count_ad.var.index,range(count_ad.shape[1])))\n",
    "    var_names2ident={bc:map_identity_type(bc) for bc in count_ad.obs.index}\n",
    "    identity_types_list=sorted(set(var_names2ident.values())-set(exclusion))\n",
    "    for identity_type in identity_types_list:\n",
    "        subset_index_str=[cb for cb in count_ad.obs.index if var_names2ident[cb]==identity_type]\n",
    "        subset_index=[obs_names2index[s] for s in subset_index_str]\n",
    "        if log1p:\n",
    "            X_subset=count_ad[subset_index,:].X\n",
    "            X_subset=sp.csc_matrix(X_subset)\n",
    "            X_subset=X_subset.expm1()\n",
    "            X_subset_sum=np.asarray(X_subset.sum(axis=0)).squeeze()\n",
    "            counts = np.diff(X_subset.indptr)\n",
    "            X_subset_mean = np.log1p(X_subset_sum/X_subset.shape[0])\n",
    "            n_barcodes_nonzero_list.append(counts)\n",
    "            subset_agg_list.append(X_subset_mean)\n",
    "        else:\n",
    "            X_subset=count_ad[subset_index,:].X\n",
    "            X_subset=sp.csc_matrix(X_subset)\n",
    "            X_subset_sum=np.asarray(X_subset.sum(axis=0)).squeeze()\n",
    "            counts = np.diff(X_subset.indptr)\n",
    "            n_barcodes_nonzero_list.append(counts)\n",
    "            subset_agg_list.append(X_subset_sum)\n",
    "    subset_mean_all=np.vstack(subset_agg_list)\n",
    "    n_barcodes_nonzero_all=np.vstack(n_barcodes_nonzero_list)\n",
    "\n",
    "    cell_identity_stats=dict()\n",
    "    for i,feature_id in enumerate(count_ad.var.index):\n",
    "        stats=defaultdict(lambda: [0,0])\n",
    "        for j,identity_type in enumerate(identity_types_list):\n",
    "            stats[identity_type]=[n_barcodes_nonzero_all[j][i],subset_mean_all[j][i]]\n",
    "        cell_identity_stats[feature_id]=dict(stats)\n",
    "    return cell_identity_stats\n",
    "\n",
    "def get_differential_analysis_barcodes(self):\n",
    "    cluster_midway_sets=self.illumina_sample_info.cluster_midway_sets_pacbio_intersect\n",
    "    cluster_full_sets=self.illumina_sample_info.cluster_full_sets_pacbio_intersect\n",
    "    epi_normal_stem=cluster_full_sets[\"Epi_normal_cE01_stem_TA\"]\\\n",
    "                | cluster_full_sets[\"Epi_normal_cE02_stem_TA_im_goblet\"]\\\n",
    "                | cluster_full_sets[\"Epi_normal_cE03_stem_TA_prolif\"]\n",
    "    \n",
    "    epi_tumor_stem=cluster_full_sets[\"Epi_tumor_cE01_stem_TA\"]\\\n",
    "                | cluster_full_sets[\"Epi_tumor_cE02_stem_TA_im_goblet\"]\\\n",
    "                | cluster_full_sets[\"Epi_tumor_cE03_stem_TA_prolif\"]\n",
    "    # for general analysis\n",
    "    da_barcodes1={\n",
    "        'Epi_tumor vs Epi_normal':(\n",
    "            cluster_midway_sets[\"Epi_tumor\"],\n",
    "            cluster_midway_sets[\"Epi_normal\"]\n",
    "        ),\n",
    "        'Epi_tumor_stem vs Epi_normal_stem':(\n",
    "            cluster_full_sets[\"Epi_normal_cE01_stem_TA\"]\\\n",
    "            | cluster_full_sets[\"Epi_normal_cE02_stem_TA_im_goblet\"]\\\n",
    "            | cluster_full_sets[\"Epi_normal_cE03_stem_TA_prolif\"],\n",
    "\n",
    "            cluster_full_sets[\"Epi_tumor_cE01_stem_TA\"]\\\n",
    "            | cluster_full_sets[\"Epi_tumor_cE02_stem_TA_im_goblet\"]\\\n",
    "            | cluster_full_sets[\"Epi_tumor_cE03_stem_TA_prolif\"]\n",
    "        ),\n",
    "        'Epi_normal_stem vs Epi_normal_rest':(\n",
    "            epi_normal_stem,\n",
    "            cluster_midway_sets[\"Epi_normal\"]-epi_normal_stem\n",
    "        ),\n",
    "    } \n",
    "    \n",
    "    # for lineage analysis\n",
    "    da_barcodes2={\n",
    "        'Epi stem vs rest': (\n",
    "            epi_normal_stem,\n",
    "            cluster_midway_sets[\"Epi_normal\"]-epi_normal_stem\n",
    "            \n",
    "        ),\n",
    "        'Epi goblet_lineage vs Epi stem':(\n",
    "            cluster_full_sets[\"Epi_normal_cE06_im_goblet\"]\\\n",
    "            |cluster_full_sets[\"Epi_normal_cE08_goblet\"],\n",
    "            epi_normal_stem\n",
    "        ),\n",
    "        'Epi enterocyte_lineage vs Epi stem':(\n",
    "            cluster_full_sets[\"Epi_normal_cE04_enterocyte1\"]\\\n",
    "            |cluster_full_sets[\"Epi_normal_cE05a_enterocyte2\"]\\\n",
    "            |cluster_full_sets[\"Epi_normal_cE07_goblet_enterocyte\"]\\\n",
    "            |cluster_full_sets[\"Epi_normal_cE11_enteroendocrine\"],\n",
    "            epi_normal_stem\n",
    "        ),\n",
    "        'Epi best4_lineage vs Epi stem':(\n",
    "            cluster_full_sets[\"Epi_normal_cE09_best4\"],\n",
    "            epi_normal_stem\n",
    "        )\n",
    "    }\n",
    "    \n",
    "    # for signature analysis\n",
    "    da_barcodes3={\n",
    "        'EpiT stem 01 vs rest': (\n",
    "            cluster_full_sets[\"Epi_tumor_cE01_stem_TA\"],\n",
    "            epi_tumor_stem - cluster_full_sets[\"Epi_tumor_cE01_stem_TA\"]\n",
    "        ),\n",
    "        \n",
    "        'EpiT stem 02 vs rest':(\n",
    "            cluster_full_sets[\"Epi_tumor_cE02_stem_TA_im_goblet\"],\n",
    "            epi_tumor_stem - cluster_full_sets[\"Epi_tumor_cE02_stem_TA_im_goblet\"]\n",
    "        ),\n",
    "        'EpiT stem 03 vs rest':(\n",
    "            cluster_full_sets[\"Epi_tumor_cE03_stem_TA_prolif\"],\n",
    "            epi_tumor_stem - cluster_full_sets[\"Epi_tumor_cE03_stem_TA_prolif\"]\n",
    "        )\n",
    "    }\n",
    "    \n",
    "    da_barcodes4={\n",
    "        \"EpiT stem 01 vs Epi stem 01\":(\n",
    "            cluster_full_sets[\"Epi_tumor_cE01_stem_TA\"],\n",
    "            cluster_full_sets[\"Epi_normal_cE01_stem_TA\"]\n",
    "        ),\n",
    "        \"EpiT stem 02 vs Epi stem 02\":(\n",
    "            cluster_full_sets[\"Epi_tumor_cE02_stem_TA_im_goblet\"],\n",
    "            cluster_full_sets[\"Epi_normal_cE02_stem_TA_im_goblet\"]\n",
    "        ),\n",
    "        \"EpiT stem 03 vs Epi stem 03\":(\n",
    "            cluster_full_sets[\"Epi_tumor_cE03_stem_TA_prolif\"],\n",
    "            cluster_full_sets[\"Epi_normal_cE03_stem_TA_prolif\"]\n",
    "        )\n",
    "    }\n",
    "    \n",
    "    da_barcodes=dict()\n",
    "    da_barcodes.update(da_barcodes2)\n",
    "    da_barcodes.update(da_barcodes3)\n",
    "    da_barcodes.update(da_barcodes4)\n",
    "    return da_barcodes\n",
    "\n",
    "def statistical_test_loop(self):\n",
    "    def cluster_midway_map_cell_type(cb):\n",
    "        if cb in self.cell_barcodes_illumina_intersect:\n",
    "            cell_type=self.illumina_sample_info.illumina_barcodes_cluster_midway_sn_map_pacbio_intersect[cb][1]\n",
    "        elif cb in self.cell_barcodes_pass_UMI_count_filter:\n",
    "            cell_type=\"_PB_CB_not_found_in_IL\"\n",
    "        else:\n",
    "            cell_type=\"_PB_CB_filtered\"\n",
    "        return cell_type\n",
    "    \n",
    "    def cluster_full_map_cell_type(cb):\n",
    "        if cb in self.cell_barcodes_illumina_intersect:\n",
    "            cell_type=self.illumina_sample_info.illumina_barcodes_cluster_full_sn_map_pacbio_intersect[cb][1]\n",
    "        elif cb in self.cell_barcodes_pass_UMI_count_filter:\n",
    "            cell_type=\"_PB_CB_not_found_in_IL\"\n",
    "        else:\n",
    "            cell_type=\"_PB_CB_filtered\"\n",
    "        return cell_type\n",
    "    \n",
    "    def sample_condition_map_cell_type(cb):\n",
    "        if cb in self.sample_condition_sets[\"sample_normal\"]:\n",
    "            condition=\"sample_normal\"\n",
    "        elif cb in self.sample_condition_sets[\"sample_tumor\"]:\n",
    "            condition=\"sample_tumor\"\n",
    "        \n",
    "        return condition\n",
    "    \n",
    "    counts_matrix_ad, data_matrix_ad=isoform_level_count_matrix(self)\n",
    "\n",
    "    obs_names2index=zip(data_matrix_ad.obs.index,range(data_matrix_ad.shape[0]))\n",
    "    var_names2index=zip(data_matrix_ad.var.index,range(data_matrix_ad.shape[1]))\n",
    "    cluster_midway_raw_count_stats=cell_identity_stats(\n",
    "        self,\n",
    "        counts_matrix_ad,\n",
    "        lambda x: cluster_midway_map_cell_type(x),\n",
    "        log1p=False\n",
    "    )\n",
    "    \n",
    "    cluster_midway_data_stats=cell_identity_stats(\n",
    "        self,\n",
    "        data_matrix_ad,\n",
    "        lambda x: cluster_midway_map_cell_type(x),\n",
    "        log1p=True\n",
    "    )\n",
    "    \n",
    "    cluster_full_raw_count_stats=cell_identity_stats(\n",
    "        self,\n",
    "        counts_matrix_ad,\n",
    "        lambda x: cluster_full_map_cell_type(x),\n",
    "        log1p=False,\n",
    "        exclusion=[\"UNK\"]\n",
    "    )\n",
    "    \n",
    "    cluster_full_data_stats=cell_identity_stats(\n",
    "        self,\n",
    "        data_matrix_ad,\n",
    "        lambda x: cluster_full_map_cell_type(x),\n",
    "        log1p=True,\n",
    "        exclusion=[\"UNK\"]\n",
    "    )\n",
    "    \n",
    "    sample_condition_raw_count_stats=cell_identity_stats(\n",
    "        self,\n",
    "        counts_matrix_ad,\n",
    "        lambda x: sample_condition_map_cell_type(x),\n",
    "        log1p=False\n",
    "    )\n",
    "    \n",
    "    sample_condition_data_stats=cell_identity_stats(\n",
    "        self,\n",
    "        data_matrix_ad,\n",
    "        lambda x: sample_condition_map_cell_type(x),\n",
    "        log1p=True\n",
    "    )\n",
    "    \n",
    "    diff_analysis_barcodes=get_differential_analysis_barcodes(self)\n",
    "    diff_analysis_results=dict()\n",
    "    for da_key in diff_analysis_barcodes:\n",
    "        group1,group2=diff_analysis_barcodes[da_key]\n",
    "        print(\"differential_analysis of {}\".format(da_key))\n",
    "        diff_analysis_results[da_key]={\n",
    "            'results_Fisher':fisher_exact_test(self,data_matrix_ad,log1p=True,group1=group1,group2=group2),\n",
    "            'results_MWU':MWU_rank_sum_test(self,data_matrix_ad,log1p=True,group1=group1,group2=group2)\n",
    "        }\n",
    "        \n",
    "        \n",
    "    sorted_cell_types=sorted(self.illumina_sample_info.illumina_barcodes_table_pacbio_intersect[\"ClusterMidway2\"].unique())\n",
    "    \n",
    "    for col_idx,feature_id in enumerate(tqdm(data_matrix_ad.var.index)):\n",
    "        feature=self.gffcmp_merged_transcripts.shared_iso_by_id[feature_id]\n",
    "        differential_analysis=feature.associated_data.get(\"differential_analysis\")\n",
    "        differential_analysis[\"test_results\"]=dict()\n",
    "        for da_key in diff_analysis_barcodes:\n",
    "            differential_analysis[\"test_results\"][da_key]={\n",
    "                \"fisher_exact\":{\n",
    "                    \"ctable\":diff_analysis_results[da_key][\"results_Fisher\"][\"ctable\"][col_idx],\n",
    "                    \"oddsr\":diff_analysis_results[da_key][\"results_Fisher\"][\"oddsr\"][col_idx],\n",
    "                    \"pvalue\":diff_analysis_results[da_key][\"results_Fisher\"][\"pvalue\"][col_idx]\n",
    "                },\n",
    "                \"MWU_test\":{\n",
    "                    \"logfc\":diff_analysis_results[da_key][\"results_MWU\"][\"logfc\"][col_idx],\n",
    "                    \"pvalue\":diff_analysis_results[da_key][\"results_MWU\"][\"pvalue\"][col_idx]\n",
    "                }\n",
    "            }\n",
    "            \n",
    "        differential_analysis[\"supporting_stats_by_clustermidway_cell_type(counts)\"]=cluster_midway_raw_count_stats[feature_id]\n",
    "        differential_analysis[\"supporting_stats_by_clustermidway_cell_type(data)\"]=cluster_midway_data_stats[feature_id]\n",
    "        \n",
    "        differential_analysis[\"supporting_stats_by_clusterfull_cell_type(counts)\"]=cluster_full_raw_count_stats[feature_id]\n",
    "        differential_analysis[\"supporting_stats_by_clusterfull_cell_type(data)\"]=cluster_full_data_stats[feature_id]\n",
    "        \n",
    "        differential_analysis[\"supporting_stats_by_samplecondition_cell_type(counts)\"]=sample_condition_raw_count_stats[feature_id]\n",
    "        differential_analysis[\"supporting_stats_by_samplecondition_cell_type(data)\"]=sample_condition_data_stats[feature_id]\n",
    "        \n",
    "        differential_analysis[\"NSupportingPB_CB\"]=sum(\n",
    "            v[0]\n",
    "            for k,v in cluster_midway_raw_count_stats[feature_id].items()\n",
    "            if k!=\"_PB_CB_filtered\"\n",
    "        )\n",
    "        differential_analysis[\"NSupportingIL_CB\"]=sum(\n",
    "            v[0]\n",
    "            for k,v in cluster_midway_raw_count_stats[feature_id].items()\n",
    "            if k not in [\"_PB_CB_filtered\",\"_PB_CB_not_found_in_IL\"]\n",
    "        )\n",
    "        \n",
    "        differential_analysis[\"NSupportingPB_UMI_counts\"]=sum(\n",
    "            v[1] \n",
    "            for k,v in cluster_midway_raw_count_stats[feature_id].items()\n",
    "            if k!=\"_PB_CB_filtered\"\n",
    "        )\n",
    "\n",
    "        differential_analysis[\"NSupportingCommonCB_UMI_counts\"]=sum(\n",
    "            v[1]\n",
    "            for k,v in cluster_midway_raw_count_stats[feature_id].items()\n",
    "            if k not in [\"_PB_CB_filtered\",\"_PB_CB_not_found_in_IL\"]\n",
    "        )\n",
    "\n",
    "    return counts_matrix_ad, data_matrix_ad\n",
    "isoform_counts_ad, isoform_data_ad = statistical_test_loop(giv2)\n",
    "if False:\n",
    "    isoform_counts_ad.write(\"/data/liz0f/Long-read-RNA-seq/PacBio/downstream/combined/isoform_counts_ad.anndata\")\n",
    "    isoform_data_ad.write(\"/data/liz0f/Long-read-RNA-seq/PacBio/downstream/combined/isoform_data_ad.anndata\")"
   ]
  },
  {
   "cell_type": "markdown",
   "metadata": {},
   "source": [
    "# Make Simplified Tables"
   ]
  },
  {
   "cell_type": "markdown",
   "metadata": {},
   "source": [
    "## Simplified Isoform Level Table"
   ]
  },
  {
   "cell_type": "code",
   "execution_count": 14,
   "metadata": {},
   "outputs": [
    {
     "name": "stderr",
     "output_type": "stream",
     "text": [
      "100%|█████████████████████████████████████████████████████████████████████████████████████████████████████████████████████████████████████████████████████████████████████████████████████████████████████████████████████████████████| 125205/125205 [00:16<00:00, 7701.98it/s]\n"
     ]
    }
   ],
   "source": [
    "def make_simplified_isoform_level_table(self):\n",
    "    def get_supporting_query_isoform_info(\n",
    "        feature\n",
    "    ):\n",
    "        \n",
    "        assert 'cls_record' in feature.associated_data\n",
    "        cls_record=feature.associated_data.get(\"cls_record\")\n",
    "        SupportingStructCategory=cls_record[\"structural_category\"]\n",
    "        gene_id=cls_record[\"associated_gene\"]\n",
    "        NExons=cls_record[\"exons\"]\n",
    "        if gene_id in self.gene_name_by_id:\n",
    "            gene_display_name=self.gene_name_by_id[gene_id]\n",
    "        else:\n",
    "            gene_display_name=gene_id\n",
    "            \n",
    "        AssociatedGeneSymbols=gene_display_name\n",
    "        \n",
    "        if \"supporting_query_isoform_id\" in feature.associated_data \\\n",
    "        and len(feature.associated_data.get(\"supporting_query_isoform_id\"))>0:\n",
    "            cage_peak_info=list()\n",
    "            polya_peak_info=list()\n",
    "            supporting_qtiso=feature.associated_data.get(\"supporting_query_isoform_id\")\n",
    "            for qtiso in supporting_qtiso:\n",
    "                cage_peak_info.append(self.query_iso_by_id[qtiso].cls_record[\"within_cage_peak\"])\n",
    "                polya_peak_info.append(self.query_iso_by_id[qtiso].cls_record[\"within_polya_site\"])\n",
    "                WithinCAGEPeak=sum(cage_peak_info)>0\n",
    "                WithinPolyAPeak=sum(polya_peak_info)>0\n",
    "        else:\n",
    "            WithinCAGEPeak=False\n",
    "            WithinPolyAPeak=False\n",
    "        return {\n",
    "            \"GeneSymbol\":AssociatedGeneSymbols,\n",
    "            \"SupportingStructCategory\":SupportingStructCategory,\n",
    "            \"WithinCAGEPeak\":WithinCAGEPeak,\n",
    "            \"WithinPolyAPeak\":WithinPolyAPeak,\n",
    "            \"NExons\":NExons\n",
    "        }\n",
    "    \n",
    "    def get_differential_analysis_info(\n",
    "            feature\n",
    "        ):\n",
    "        joining_char=\"\\n\"\n",
    "        results_dict=dict()\n",
    "        # default values\n",
    "        cell_type_stats=\"\"\n",
    "        OddsRatio=float(\"nan\")\n",
    "        NSupportingILCB=0\n",
    "        NSupportingPBCB=0\n",
    "        NSupportingPBUMI=0\n",
    "        SupportingUMICellType=\"\"\n",
    "        SupportingUMISampleAndCellType=\"\"\n",
    "        AVGLogFC=float(\"nan\")\n",
    "        PV_MWU=float(\"nan\")\n",
    "        PV_Fisher=float(\"nan\")\n",
    "        CTable=\"\"\n",
    "        cluster_midway_sorted_cell_types_IL=sorted(self.illumina_sample_info.cluster_midway_stats_pacbio_intersect)\n",
    "        cluster_midway_sorted_cell_types=cluster_midway_sorted_cell_types_IL+[\"_PB_CB_not_found_in_IL\",\"_PB_CB_filtered\"]\n",
    "        \n",
    "        cluster_full_sorted_cell_types=sorted(set(self.illumina_sample_info.cluster_full_stats_pacbio_intersect)-set([\"UNK\"]))\n",
    "        \n",
    "        sample_condition_sorted_cell_types=[\"sample_normal\",\"sample_tumor\"]\n",
    "        if \"differential_analysis\" in feature.associated_data:\n",
    "            diff_analysis=feature.associated_data.get(\"differential_analysis\")\n",
    "            if \"support_info\" in diff_analysis:\n",
    "                for da_key in diff_analysis[\"test_results\"]:\n",
    "                    results_dict[\"OddsRatio(%s)\"%(da_key)]=diff_analysis[\"test_results\"][da_key][\"fisher_exact\"][\"oddsr\"]\n",
    "                    results_dict[\"PV_Fisher(%s)\"%(da_key)]=diff_analysis[\"test_results\"][da_key][\"fisher_exact\"][\"pvalue\"]\n",
    "                    results_dict[\"AVGLogFC(%s)\"%(da_key)]=diff_analysis[\"test_results\"][da_key][\"MWU_test\"][\"logfc\"]\n",
    "                    results_dict[\"PV_MWU(%s)\"%(da_key)]=diff_analysis[\"test_results\"][da_key][\"MWU_test\"][\"pvalue\"]\n",
    "                \n",
    "                results_dict[\"NSupportingPB_CB\"]=diff_analysis[\"NSupportingPB_CB\"]\n",
    "                results_dict[\"NSupportingIL_CB\"]=diff_analysis[\"NSupportingIL_CB\"]\n",
    "                \n",
    "                for k in sample_condition_sorted_cell_types:\n",
    "                    if k in diff_analysis[\"supporting_stats_by_samplecondition_cell_type(counts)\"]:\n",
    "                        results_dict[k+\"_CB\"]=diff_analysis[\"supporting_stats_by_samplecondition_cell_type(counts)\"][k][0]\n",
    "                        results_dict[k+\"_CB_Total\"]=len(self.sample_condition_sets[k])\n",
    "                        \n",
    "                for k in cluster_midway_sorted_cell_types:\n",
    "                    if k in diff_analysis[\"supporting_stats_by_clustermidway_cell_type(counts)\"]:\n",
    "                        results_dict[k+\"_CB\"]=diff_analysis[\"supporting_stats_by_clustermidway_cell_type(counts)\"][k][0]\n",
    "                        results_dict[k+\"_CB_Total\"]=len(self.cluster_midway_sets[k])\n",
    "                    else:\n",
    "                        results_dict[k+\"_CB\"]=0\n",
    "                        results_dict[k+\"_CB_Total\"]=len(self.cluster_midway_sets[k])\n",
    "                \n",
    "                for k in cluster_full_sorted_cell_types:\n",
    "                    if k in diff_analysis[\"supporting_stats_by_clusterfull_cell_type(counts)\"]:\n",
    "                        results_dict[k+\"_CB\"]=diff_analysis[\"supporting_stats_by_clusterfull_cell_type(counts)\"][k][0]\n",
    "                        results_dict[k+\"_CB_Total\"]=self.illumina_sample_info.cluster_full_stats_pacbio_intersect[k]\n",
    "     \n",
    "                results_dict[\"NSupportingPB_UMI_counts\"]=diff_analysis[\"NSupportingPB_UMI_counts\"]\n",
    "    \n",
    "                results_dict[\"NSupportingCommonCB_UMI_counts\"]=diff_analysis[\"NSupportingCommonCB_UMI_counts\"]\n",
    "                \n",
    "                \n",
    "                for k in sample_condition_sorted_cell_types:\n",
    "                    if k in diff_analysis[\"supporting_stats_by_samplecondition_cell_type(counts)\"]:\n",
    "                        results_dict[k+\"UMI_counts\"]=diff_analysis[\"supporting_stats_by_samplecondition_cell_type(counts)\"][k][1]\n",
    "                for k in cluster_midway_sorted_cell_types:\n",
    "                    if k in diff_analysis[\"supporting_stats_by_clustermidway_cell_type(counts)\"]:\n",
    "                        results_dict[k+\"_UMI_counts\"]=diff_analysis[\"supporting_stats_by_clustermidway_cell_type(counts)\"][k][1]\n",
    "\n",
    "                for k in cluster_full_sorted_cell_types:\n",
    "                    if k in diff_analysis[\"supporting_stats_by_clusterfull_cell_type(counts)\"]:\n",
    "                        results_dict[k+\"_UMI_counts\"]=diff_analysis[\"supporting_stats_by_clusterfull_cell_type(counts)\"][k][1]\n",
    "\n",
    "                for k in sample_condition_sorted_cell_types:\n",
    "                    if k in diff_analysis[\"supporting_stats_by_samplecondition_cell_type(data)\"]:\n",
    "                        results_dict[k+\"UMI_data\"]=diff_analysis[\"supporting_stats_by_samplecondition_cell_type(data)\"][k][1]\n",
    "                        \n",
    "                for k in cluster_midway_sorted_cell_types:\n",
    "                    if k in diff_analysis[\"supporting_stats_by_clustermidway_cell_type(data)\"]:\n",
    "                        results_dict[k+\"_UMI_data\"]=diff_analysis[\"supporting_stats_by_clustermidway_cell_type(data)\"][k][1]\n",
    "\n",
    "                        \n",
    "                for k in cluster_full_sorted_cell_types:\n",
    "                    if k in diff_analysis[\"supporting_stats_by_clusterfull_cell_type(data)\"]:\n",
    "                        results_dict[k+\"_UMI_data\"]=diff_analysis[\"supporting_stats_by_clusterfull_cell_type(data)\"][k][1]\n",
    "\n",
    "        return results_dict\n",
    "    collection=self.gffcmp_merged_transcripts.shared_iso_by_id\n",
    "    table_dict=defaultdict(list)\n",
    "    for feature_id,feature in tqdm(collection.items(),total=len(collection)):\n",
    "        record = dict()\n",
    "        record[\"Isoform\"]=feature.id\n",
    "        record[\"chrom\"]=feature.chrom\n",
    "        record[\"start\"]=feature.genomic_start\n",
    "        record[\"end\"]=feature.genomic_end_1based\n",
    "        result=get_supporting_query_isoform_info(feature)\n",
    "        record.update(result)\n",
    "        result=get_differential_analysis_info(feature)\n",
    "        record.update(result)\n",
    "        for k,v in record.items():\n",
    "            table_dict[k].append(v)\n",
    "    return pd.DataFrame(table_dict)\n",
    "\n",
    "def post_process_simplified_isoform_level_table(table):\n",
    "    table=table.query(\"NSupportingPB_UMI_counts>0\")\n",
    "#     table=table.loc[\n",
    "#         (~table[\"GeneSymbol\"].apply(\n",
    "#             lambda x: '\\n' in x or '___' in x or x.startswith(\"novelGene\")\n",
    "#         )),:]\n",
    "    table=table.sort_values([\"chrom\",\"start\",\"end\"])\n",
    "    table=table.query('chrom!=\"chrM\"')\n",
    "    table=table.drop([\"chrom\",\"start\",\"end\"],axis=1)\n",
    "    table=table.reset_index(drop=True)\n",
    "    return table\n",
    "simplified_isoform_level_table_unfiltered=make_simplified_isoform_level_table(giv2)\n",
    "simplified_isoform_level_table=post_process_simplified_isoform_level_table(simplified_isoform_level_table_unfiltered)\n",
    "if False:\n",
    "    simplified_isoform_level_table_unfiltered.to_csv(\"PacBio/downstream/combined/simplified_isoform_level-PacBio-gffcmp-clusterfull.unfiltered.csv\",index=None)\n",
    "    simplified_isoform_level_table.to_csv(\"PacBio/downstream/combined/simplified_isoform_level-PacBio-gffcmp-clusterfull.csv\",index=None)"
   ]
  },
  {
   "cell_type": "code",
   "execution_count": 15,
   "metadata": {},
   "outputs": [],
   "source": [
    "if True:\n",
    "    simplified_isoform_level_table_unfiltered.to_csv(\"PacBio/downstream/combined/simplified_isoform_level-PacBio-gffcmp-clusterfull-comprehensive_tests.unfiltered.csv\",index=None)"
   ]
  },
  {
   "cell_type": "code",
   "execution_count": 2,
   "metadata": {},
   "outputs": [],
   "source": [
    "simplified_isoform_level_table_unfiltered=pd.read_csv(\n",
    "    \"PacBio/downstream/combined/simplified_isoform_level-PacBio-gffcmp-clusterfull-comprehensive_tests.unfiltered.csv\"\n",
    ")"
   ]
  },
  {
   "cell_type": "code",
   "execution_count": 7,
   "metadata": {},
   "outputs": [
    {
     "data": {
      "text/plain": [
       "17753"
      ]
     },
     "execution_count": 7,
     "metadata": {},
     "output_type": "execute_result"
    }
   ],
   "source": [
    "len(\n",
    "    set(\n",
    "        ge for ge in simplified_isoform_level_table_unfiltered[\"GeneSymbol\"] \n",
    "        if \"__\" not in ge and not ge.startswith(\"novelGene_\") and not ge.startswith(\"MT-\")\n",
    "    )\n",
    ")"
   ]
  },
  {
   "cell_type": "markdown",
   "metadata": {},
   "source": [
    "## QC plots"
   ]
  },
  {
   "cell_type": "code",
   "execution_count": 71,
   "metadata": {},
   "outputs": [
    {
     "data": {
      "image/png": "[encoded data removed]",
      "text/plain": [
       "<Figure size 600x600 with 1 Axes>"
      ]
     },
     "metadata": {},
     "output_type": "display_data"
    }
   ],
   "source": [
    "def make_autopct(values):\n",
    "    def my_autopct(pct):\n",
    "        total = sum(values)\n",
    "        val = int(round(pct*total/100.0))\n",
    "        return '{p:.2f}%\\n({v:d})'.format(p=pct,v=val)\n",
    "    return my_autopct\n",
    "vc=simplified_isoform_level_table_unfiltered[\"SupportingStructCategory\"].map(lambda x: {\n",
    "    \"full-splice_match\":\"FSM\",\n",
    "    \"incomplete-splice_match\":\"ISM\",\n",
    "    \"novel_in_catalog\":\"NIC\",\n",
    "    \"novel_not_in_catalog\":\"NNC\"\n",
    "}.get(x,\"other\")).value_counts()\n",
    "colors = [\n",
    "    sns.color_palette('dark')[0],\n",
    "    sns.color_palette('dark')[2],\n",
    "    sns.color_palette('dark')[1],\n",
    "    sns.color_palette('dark')[3]\n",
    "]+[\"grey\"]\n",
    "fig,ax=plt.subplots()\n",
    "ax.pie(\n",
    "    vc.values,labels=vc.index,colors=colors, \n",
    "    autopct=make_autopct(vc.values),\n",
    "    textprops = {\"fontsize\":7,\"color\":\"black\"},\n",
    "    wedgeprops = {\"linewidth\":0.5}\n",
    ")\n",
    "ax.set_title(f\"n_isoforms={vc.sum()}, n_samples=9\")\n",
    "fig.set_size_inches((4,4))\n",
    "fig.savefig(\"plots/QC/struct_pie_chart.pdf\",bbox_inches=\"tight\")"
   ]
  },
  {
   "cell_type": "code",
   "execution_count": 162,
   "metadata": {},
   "outputs": [],
   "source": [
    "%%space common_isoforms_by_sc\n",
    "sc_map={\n",
    "    \"full-splice_match\":\"FSM\",\n",
    "    \"incomplete-splice_match\":\"ISM\",\n",
    "    \"novel_in_catalog\":\"NIC\",\n",
    "    \"novel_not_in_catalog\":\"NNC\"\n",
    "}\n",
    "isoform_sets={\n",
    "    \"FSM\":{\"normal samples\":set(),\"tumor samples\":set()},\n",
    "    \"ISM\":{\"normal samples\":set(),\"tumor samples\":set()},\n",
    "    \"NIC\":{\"normal samples\":set(),\"tumor samples\":set()},\n",
    "    \"NNC\":{\"normal samples\":set(),\"tumor samples\":set()},\n",
    "    \"other\":{\"normal samples\":set(),\"tumor samples\":set()},\n",
    "}\n",
    "normal_samples={\"PS018-N\",\"PS021-N\",\"PS026-N2\"}\n",
    "tumor_samples={\"PS017-T1.1\",\"PS017-T2\",\"PS018-T\",\"PS025-T\",\"PS026-T\",\"PS028-T\"}\n",
    "for iso_id, qtiso in giv2.gffcmp_merged_transcripts.shared_iso_by_id.items():\n",
    "    supporting_samples = set(qid.split(\"__\")[1] for qid in qtiso.associated_data.get(\"supporting_query_isoform_id\"))\n",
    "    sc=sc_map.get(qtiso.associated_data.get(\"cls_record\")[\"structural_category\"],\"other\")\n",
    "    if supporting_samples& normal_samples:\n",
    "        if sc in isoform_sets:\n",
    "            isoform_sets[sc][\"normal samples\"].add(iso_id)\n",
    "    if supporting_samples& tumor_samples:\n",
    "        if sc in isoform_sets:\n",
    "            isoform_sets[sc][\"tumor samples\"].add(iso_id)"
   ]
  },
  {
   "cell_type": "code",
   "execution_count": 163,
   "metadata": {},
   "outputs": [
    {
     "data": {
      "image/png": "[encoded data removed]",
      "text/plain": [
       "<Figure size 1200x600 with 5 Axes>"
      ]
     },
     "metadata": {},
     "output_type": "display_data"
    }
   ],
   "source": [
    "%%space common_isoforms_by_sc\n",
    "from venn import venn\n",
    "fig,axes=plt.subplots(1,5,figsize=(8,4))\n",
    "fig.tight_layout()\n",
    "axes=axes.flatten()\n",
    "for i, (sc, collections) in enumerate(isoform_sets.items()):\n",
    "    ax=axes[i]\n",
    "    _=venn(collections,cmap=[sns.color_palette(\"dark\")[0],sns.color_palette(\"dark\")[3]],ax=ax,fontsize=7,fmt=\"{size}\\n{percentage:.1f}%\")\n",
    "    _=ax.set_title(sc,fontsize=7)\n",
    "if False:\n",
    "    fig.savefig(\"plots/QC/isoform_normal_tumor_sample.pdf\",bbox_inches=\"tight\")"
   ]
  },
  {
   "cell_type": "code",
   "execution_count": 153,
   "metadata": {},
   "outputs": [],
   "source": [
    "%%space common_barcodes_by_sample\n",
    "\n",
    "sample_name_map={\n",
    "    2: 'PS017-T',\n",
    "    4: 'PS017-T',\n",
    "    5: 'PS018-N',\n",
    "    6: 'PS018-T',\n",
    "    8: 'PS021-N',\n",
    "    10: 'PS025-T',\n",
    "    11: 'PS026-N',\n",
    "    12: 'PS026-T',\n",
    "    15: 'PS028-T'\n",
    "}\n",
    "\n",
    "IL_barcodes_by_sample=defaultdict(set)\n",
    "PB_barcodes_by_sample=defaultdict(set)\n",
    "\n",
    "for cb_sidx in giv2.cell_barcodes_pass_UMI_count_filter:\n",
    "    cb,sidx=cb_sidx.split('-')\n",
    "    sidx=int(sidx)\n",
    "    sample_name=sample_name_map[sidx]\n",
    "    PB_barcodes_by_sample[sample_name].add(cb_sidx)\n",
    "\n",
    "for cb_sidx in giv2.illumina_sample_info.anndata.obs.index:\n",
    "    cb,sidx=cb_sidx.split('-')\n",
    "    sidx=int(sidx)\n",
    "    if sidx in sample_name_map:\n",
    "        sample_name=sample_name_map[sidx]\n",
    "        IL_barcodes_by_sample[sample_name].add(cb_sidx)\n"
   ]
  },
  {
   "cell_type": "code",
   "execution_count": 161,
   "metadata": {},
   "outputs": [
    {
     "data": {
      "image/png": "[encoded data removed]",
      "text/plain": [
       "<Figure size 1200x600 with 8 Axes>"
      ]
     },
     "metadata": {},
     "output_type": "display_data"
    }
   ],
   "source": [
    "%%space common_barcodes_by_sample\n",
    "from venn import venn\n",
    "from itertools import chain\n",
    "fig,axes=plt.subplots(2,4,figsize=(8,4))\n",
    "fig.tight_layout()\n",
    "axes=axes.flatten()\n",
    "samples_to_plot=[\"PS017-T\",\"PS018-N\",\"PS018-T\",\"PS021-N\",\"PS025-T\",\"PS026-N\",\"PS028-T\"]\n",
    "for i,sample_name in enumerate(samples_to_plot):\n",
    "    ax=axes[i]\n",
    "    _=ax.set_title(sample_name,fontsize=7)\n",
    "    _=venn(\n",
    "        {\n",
    "            \"Short-Read\":IL_barcodes_by_sample[sample_name],\n",
    "            \"Long-Read\":PB_barcodes_by_sample[sample_name]\n",
    "        },\n",
    "        fontsize=6,\n",
    "        ax=ax\n",
    "    )\n",
    "    \n",
    "IL_barcodes_all=set(chain.from_iterable(IL_barcodes_by_sample[sn] for sn in samples_to_plot))\n",
    "PB_barcodes_all=set(chain.from_iterable(PB_barcodes_by_sample[sn] for sn in samples_to_plot))\n",
    "\n",
    "\n",
    "ax=axes[-1]\n",
    "_=ax.set_title(\"ALL\",fontsize=7)\n",
    "_=venn(\n",
    "    {\n",
    "        \"Short-Read\":IL_barcodes_all,\n",
    "        \"Long-Read\":PB_barcodes_all\n",
    "    },\n",
    "    fontsize=6,\n",
    "    ax=ax\n",
    ")\n",
    "\n",
    "if True:\n",
    "    fig.savefig(\"plots/QC/barcodes_per_sample.pdf\",bbox_inches=\"tight\")"
   ]
  },
  {
   "cell_type": "markdown",
   "metadata": {},
   "source": [
    "## Simplified Gene Level Table"
   ]
  },
  {
   "cell_type": "code",
   "execution_count": 18,
   "metadata": {
    "scrolled": true
   },
   "outputs": [
    {
     "name": "stderr",
     "output_type": "stream",
     "text": [
      "100%|███████████████████████████████████████████████████████████████████████████████████████████████████████████████████████████████████████████████████████████████████████████████████████████████████████████████████████████████████| 20023/20023 [00:02<00:00, 8608.34it/s]\n"
     ]
    },
    {
     "name": "stdout",
     "output_type": "stream",
     "text": [
      "Computing cell identity stats\n",
      "Computing cell identity stats\n",
      "Computing cell identity stats\n",
      "Computing cell identity stats\n",
      "Computing cell identity stats\n",
      "Computing cell identity stats\n",
      "differential_analysis of Epi stem vs rest\n",
      "Performing Fisher exact test...\n"
     ]
    },
    {
     "name": "stderr",
     "output_type": "stream",
     "text": [
      "100%|████████████████████████████████████████████████████████████████████████████████████████████████████████████████████████████████████████████████████████████████████████████████████████████████████████████████████████████████████| 20023/20023 [00:44<00:00, 451.26it/s]\n"
     ]
    },
    {
     "name": "stdout",
     "output_type": "stream",
     "text": [
      "Performing MWU Test...\n",
      "Computing Percentage...\n",
      "Computing LogFC...\n",
      "differential_analysis of Epi goblet_lineage vs Epi stem\n",
      "Performing Fisher exact test...\n"
     ]
    },
    {
     "name": "stderr",
     "output_type": "stream",
     "text": [
      "100%|████████████████████████████████████████████████████████████████████████████████████████████████████████████████████████████████████████████████████████████████████████████████████████████████████████████████████████████████████| 20023/20023 [00:35<00:00, 561.74it/s]\n"
     ]
    },
    {
     "name": "stdout",
     "output_type": "stream",
     "text": [
      "Performing MWU Test...\n",
      "Computing Percentage...\n",
      "Computing LogFC...\n",
      "differential_analysis of Epi enterocyte_lineage vs Epi stem\n",
      "Performing Fisher exact test...\n"
     ]
    },
    {
     "name": "stderr",
     "output_type": "stream",
     "text": [
      "100%|████████████████████████████████████████████████████████████████████████████████████████████████████████████████████████████████████████████████████████████████████████████████████████████████████████████████████████████████████| 20023/20023 [00:37<00:00, 534.66it/s]\n"
     ]
    },
    {
     "name": "stdout",
     "output_type": "stream",
     "text": [
      "Performing MWU Test...\n",
      "Computing Percentage...\n",
      "Computing LogFC...\n",
      "differential_analysis of Epi best4_lineage vs Epi stem\n",
      "Performing Fisher exact test...\n"
     ]
    },
    {
     "name": "stderr",
     "output_type": "stream",
     "text": [
      "100%|████████████████████████████████████████████████████████████████████████████████████████████████████████████████████████████████████████████████████████████████████████████████████████████████████████████████████████████████████| 20023/20023 [00:35<00:00, 557.25it/s]\n"
     ]
    },
    {
     "name": "stdout",
     "output_type": "stream",
     "text": [
      "Performing MWU Test...\n",
      "Computing Percentage...\n",
      "Computing LogFC...\n",
      "differential_analysis of EpiT stem 01 vs rest\n",
      "Performing Fisher exact test...\n"
     ]
    },
    {
     "name": "stderr",
     "output_type": "stream",
     "text": [
      "100%|████████████████████████████████████████████████████████████████████████████████████████████████████████████████████████████████████████████████████████████████████████████████████████████████████████████████████████████████████| 20023/20023 [00:56<00:00, 355.88it/s]\n"
     ]
    },
    {
     "name": "stdout",
     "output_type": "stream",
     "text": [
      "Performing MWU Test...\n",
      "Computing Percentage...\n",
      "Computing LogFC...\n",
      "differential_analysis of EpiT stem 02 vs rest\n",
      "Performing Fisher exact test...\n"
     ]
    },
    {
     "name": "stderr",
     "output_type": "stream",
     "text": [
      "100%|████████████████████████████████████████████████████████████████████████████████████████████████████████████████████████████████████████████████████████████████████████████████████████████████████████████████████████████████████| 20023/20023 [00:59<00:00, 335.03it/s]\n"
     ]
    },
    {
     "name": "stdout",
     "output_type": "stream",
     "text": [
      "Performing MWU Test...\n",
      "Computing Percentage...\n",
      "Computing LogFC...\n",
      "differential_analysis of EpiT stem 03 vs rest\n",
      "Performing Fisher exact test...\n"
     ]
    },
    {
     "name": "stderr",
     "output_type": "stream",
     "text": [
      "100%|████████████████████████████████████████████████████████████████████████████████████████████████████████████████████████████████████████████████████████████████████████████████████████████████████████████████████████████████████| 20023/20023 [00:59<00:00, 336.02it/s]\n"
     ]
    },
    {
     "name": "stdout",
     "output_type": "stream",
     "text": [
      "Performing MWU Test...\n",
      "Computing Percentage...\n",
      "Computing LogFC...\n",
      "differential_analysis of EpiT stem 01 vs Epi stem 01\n",
      "Performing Fisher exact test...\n"
     ]
    },
    {
     "name": "stderr",
     "output_type": "stream",
     "text": [
      "100%|████████████████████████████████████████████████████████████████████████████████████████████████████████████████████████████████████████████████████████████████████████████████████████████████████████████████████████████████████| 20023/20023 [00:34<00:00, 581.29it/s]\n"
     ]
    },
    {
     "name": "stdout",
     "output_type": "stream",
     "text": [
      "Performing MWU Test...\n",
      "Computing Percentage...\n",
      "Computing LogFC...\n",
      "differential_analysis of EpiT stem 02 vs Epi stem 02\n",
      "Performing Fisher exact test...\n"
     ]
    },
    {
     "name": "stderr",
     "output_type": "stream",
     "text": [
      "100%|████████████████████████████████████████████████████████████████████████████████████████████████████████████████████████████████████████████████████████████████████████████████████████████████████████████████████████████████████| 20023/20023 [00:39<00:00, 505.52it/s]\n"
     ]
    },
    {
     "name": "stdout",
     "output_type": "stream",
     "text": [
      "Performing MWU Test...\n",
      "Computing Percentage...\n",
      "Computing LogFC...\n",
      "differential_analysis of EpiT stem 03 vs Epi stem 03\n",
      "Performing Fisher exact test...\n"
     ]
    },
    {
     "name": "stderr",
     "output_type": "stream",
     "text": [
      "100%|████████████████████████████████████████████████████████████████████████████████████████████████████████████████████████████████████████████████████████████████████████████████████████████████████████████████████████████████████| 20023/20023 [00:46<00:00, 434.51it/s]\n"
     ]
    },
    {
     "name": "stdout",
     "output_type": "stream",
     "text": [
      "Performing MWU Test...\n",
      "Computing Percentage...\n",
      "Computing LogFC...\n"
     ]
    },
    {
     "name": "stderr",
     "output_type": "stream",
     "text": [
      "20023it [00:01, 12521.21it/s]\n"
     ]
    }
   ],
   "source": [
    "def gene_level_count_matrix(self,simplified_isoform_level_table,isoform_counts_ad):\n",
    "    obs_names=list(self.cell_barcodes_all)\n",
    "    obs_names2index=dict(zip(obs_names,range(len(obs_names))))\n",
    "    var_names=sorted(simplified_isoform_level_table[\"GeneSymbol\"].unique())\n",
    "    var_names2index=dict(zip(var_names,range(len(var_names))))\n",
    "    raw_count_matrix_data=list()\n",
    "    raw_count_matrix_row=list()\n",
    "    raw_count_matrix_col=list()\n",
    "    groupby=simplified_isoform_level_table.groupby(\"GeneSymbol\")\n",
    "    for gene,group in tqdm(groupby):\n",
    "        support_info=SupportInfo()\n",
    "        for iso_id in group[\"Isoform\"]:\n",
    "            support_info.add_isoform_support(\n",
    "                self.gffcmp_merged_transcripts.shared_iso_by_id[iso_id]\\\n",
    "                .associated_data.get(\"differential_analysis\")[\"support_info\"]\n",
    "            )\n",
    "        CB_UMI_counts=support_info.get_supporting_CB_UMI_counts()\n",
    "        CB_UMI_counts={k:v for k,v in CB_UMI_counts.items() if k in obs_names2index}\n",
    "\n",
    "        for cb, umi_count in CB_UMI_counts.items():\n",
    "            value=umi_count\n",
    "            row_idx=obs_names2index[cb]\n",
    "            col_idx=var_names2index[gene]\n",
    "            raw_count_matrix_data.append(value)\n",
    "            raw_count_matrix_row.append(row_idx)\n",
    "            raw_count_matrix_col.append(col_idx)\n",
    "    counts_matrix_csr=sp.csr_matrix(\n",
    "        (raw_count_matrix_data,(raw_count_matrix_row,raw_count_matrix_col)),\n",
    "        shape=(len(obs_names2index),len(var_names2index))\n",
    "    )\n",
    "    \n",
    "    counts_matrix_ad=ad.AnnData(counts_matrix_csr,dtype=np.int64)\n",
    "    counts_matrix_ad.obs_names=obs_names\n",
    "    counts_matrix_ad.var_names=var_names\n",
    "    \n",
    "    denominator=np.repeat(np.asarray(isoform_counts_ad.X.sum(axis=1))[:,0], counts_matrix_csr.getnnz(axis=1)).astype(\"float64\")\n",
    "    counts_matrix_csr_float=counts_matrix_csr.astype(\"float64\")\n",
    "    counts_matrix_csr_float.data/=(denominator+np.finfo(\"float64\").eps)\n",
    "    \n",
    "    counts_matrix_csr_normalized=(counts_matrix_csr_float*1e4).log1p()\n",
    "    data_matrix_csr=counts_matrix_csr_normalized\n",
    "    data_matrix_ad=ad.AnnData(data_matrix_csr,dtype=np.float64)\n",
    "    data_matrix_ad.obs_names=obs_names\n",
    "    data_matrix_ad.var_names=var_names\n",
    "    return counts_matrix_ad, data_matrix_ad\n",
    "\n",
    "def make_simplified_gene_level_table(self,simplified_isoform_level_table,isoform_counts_ad):\n",
    "    def cluster_midway_map_cell_type(cb):\n",
    "        if cb in self.cell_barcodes_illumina_intersect:\n",
    "            cell_type=self.illumina_sample_info.illumina_barcodes_cluster_midway_sn_map_pacbio_intersect[cb][1]\n",
    "        elif cb in self.cell_barcodes_pass_UMI_count_filter:\n",
    "            cell_type=\"_PB_CB_not_found_in_IL\"\n",
    "        else:\n",
    "            cell_type=\"_PB_CB_filtered\"\n",
    "        return cell_type\n",
    "    \n",
    "    def cluster_full_map_cell_type(cb):\n",
    "        if cb in self.cell_barcodes_illumina_intersect:\n",
    "            cell_type=self.illumina_sample_info.illumina_barcodes_cluster_full_sn_map_pacbio_intersect[cb][1]\n",
    "        elif cb in self.cell_barcodes_pass_UMI_count_filter:\n",
    "            cell_type=\"_PB_CB_not_found_in_IL\"\n",
    "        else:\n",
    "            cell_type=\"_PB_CB_filtered\"\n",
    "        return cell_type\n",
    "    \n",
    "    def sample_condition_map_cell_type(cb):\n",
    "        if cb in self.sample_condition_sets[\"sample_normal\"]:\n",
    "            condition=\"sample_normal\"\n",
    "        elif cb in self.sample_condition_sets[\"sample_tumor\"]:\n",
    "            condition=\"sample_tumor\"\n",
    "        \n",
    "        return condition\n",
    "    \n",
    "    cluster_midway_sorted_cell_types_IL=sorted(self.illumina_sample_info.cluster_midway_stats_pacbio_intersect)\n",
    "    cluster_midway_sorted_cell_types=cluster_midway_sorted_cell_types_IL+[\"_PB_CB_not_found_in_IL\",\"_PB_CB_filtered\"]\n",
    "    \n",
    "    cluster_full_sorted_cell_types=sorted(set(self.illumina_sample_info.cluster_full_stats_pacbio_intersect)-set([\"UNK\"]))\n",
    "    sample_condition_sorted_cell_types=[\"sample_normal\",\"sample_tumor\"]\n",
    "    \n",
    "    counts_matrix_ad, data_matrix_ad=gene_level_count_matrix(self,simplified_isoform_level_table,isoform_counts_ad)\n",
    "    obs_names2index=zip(data_matrix_ad.obs.index,range(data_matrix_ad.shape[0]))\n",
    "    var_names2index=zip(data_matrix_ad.var.index,range(data_matrix_ad.shape[1]))\n",
    "    cluster_midway_raw_count_stats_all=cell_identity_stats(\n",
    "        self,\n",
    "        counts_matrix_ad,\n",
    "        lambda x: cluster_midway_map_cell_type(x),\n",
    "        log1p=False\n",
    "    )\n",
    "    \n",
    "    cluster_midway_data_stats_all=cell_identity_stats(\n",
    "        self,\n",
    "        data_matrix_ad,\n",
    "        lambda x: cluster_midway_map_cell_type(x),\n",
    "        log1p=True\n",
    "    )\n",
    "    \n",
    "    cluster_full_raw_count_stats_all=cell_identity_stats(\n",
    "        self,\n",
    "        counts_matrix_ad,\n",
    "        lambda x: cluster_full_map_cell_type(x),\n",
    "        log1p=False,\n",
    "        exclusion=[\"UNK\"]\n",
    "    )\n",
    "    \n",
    "    cluster_full_data_stats_all=cell_identity_stats(\n",
    "        self,\n",
    "        data_matrix_ad,\n",
    "        lambda x: cluster_full_map_cell_type(x),\n",
    "        log1p=True,\n",
    "        exclusion=[\"UNK\"]\n",
    "    )\n",
    "    \n",
    "    sample_condition_raw_count_stats_all=cell_identity_stats(\n",
    "        self,\n",
    "        counts_matrix_ad,\n",
    "        lambda x: sample_condition_map_cell_type(x),\n",
    "        log1p=False\n",
    "    )\n",
    "    \n",
    "    sample_condition_data_stats_all=cell_identity_stats(\n",
    "        self,\n",
    "        data_matrix_ad,\n",
    "        lambda x: sample_condition_map_cell_type(x),\n",
    "        log1p=True\n",
    "    )\n",
    "    \n",
    "    diff_analysis_barcodes=get_differential_analysis_barcodes(self)\n",
    "    diff_analysis_results=dict()\n",
    "    for da_key in diff_analysis_barcodes:\n",
    "        group1,group2=diff_analysis_barcodes[da_key]\n",
    "        print(\"differential_analysis of {}\".format(da_key))\n",
    "        diff_analysis_results[da_key]={\n",
    "            'results_Fisher':fisher_exact_test(self,data_matrix_ad,log1p=True,group1=group1,group2=group2),\n",
    "            'results_MWU':MWU_rank_sum_test(self,data_matrix_ad,log1p=True,group1=group1,group2=group2)\n",
    "        }\n",
    "\n",
    "    table_dict=defaultdict(list)\n",
    "    for col_idx, gene in tqdm(enumerate(data_matrix_ad.var.index)):\n",
    "        cluster_midway_raw_count_stats=cluster_midway_raw_count_stats_all[gene]\n",
    "        cluster_midway_data_stats=cluster_midway_data_stats_all[gene]\n",
    "        cluster_full_raw_count_stats=cluster_full_raw_count_stats_all[gene]\n",
    "        cluster_full_data_stats=cluster_full_data_stats_all[gene]\n",
    "        sample_condition_raw_count_stats=sample_condition_raw_count_stats_all[gene]\n",
    "        sample_condition_data_stats=sample_condition_data_stats_all[gene]\n",
    "        \n",
    "        results_dict=dict(GeneSymbol=gene)\n",
    "        for da_key in diff_analysis_results:\n",
    "            results_dict[\"OddsRatio(%s)\"%(da_key)]=diff_analysis_results[da_key][\"results_Fisher\"][\"oddsr\"][col_idx]\n",
    "            results_dict[\"PV_Fisher(%s)\"%(da_key)]=diff_analysis_results[da_key][\"results_Fisher\"][\"pvalue\"][col_idx]\n",
    "            results_dict[\"AVGLogFC(%s)\"%(da_key)]=diff_analysis_results[da_key][\"results_MWU\"][\"logfc\"][col_idx]\n",
    "            results_dict[\"PV_MWU(%s)\"%(da_key)]=diff_analysis_results[da_key][\"results_MWU\"][\"pvalue\"][col_idx]\n",
    "        \n",
    "        \n",
    "        results_dict[\"NSupportingPB_CB\"]=sum(\n",
    "            v[0]\n",
    "            for k,v in cluster_midway_raw_count_stats.items()\n",
    "            if k!=\"_PB_CB_filtered\"\n",
    "        )\n",
    "        results_dict[\"NSupportingIL_CB\"]=sum(\n",
    "            v[0]\n",
    "            for k,v in cluster_midway_raw_count_stats.items()\n",
    "            if k not in [\"_PB_CB_filtered\",\"_PB_CB_not_found_in_IL\"]\n",
    "        )\n",
    "        \n",
    "        for k in sample_condition_sorted_cell_types:\n",
    "            if k in sample_condition_raw_count_stats:\n",
    "                results_dict[k+\"_CB\"]=sample_condition_raw_count_stats[k][0]\n",
    "                results_dict[k+\"_CB_Total\"]=len(self.sample_condition_sets[k])\n",
    "            else:\n",
    "                result_dict[k+\"_CB\"]=0\n",
    "                result_dict[k+\"_CB_Total\"]=len(self.sample_condition_sets[k])\n",
    "                \n",
    "        for k in cluster_midway_sorted_cell_types:\n",
    "            if k in cluster_midway_raw_count_stats:\n",
    "                results_dict[k+\"_CB\"]=cluster_midway_raw_count_stats[k][0]\n",
    "                results_dict[k+\"_CB_Total\"]=len(self.cluster_midway_sets[k])\n",
    "            else:\n",
    "                results_dict[k+\"_CB\"]=0\n",
    "                results_dict[k+\"_CB_Total\"]=len(self.cluster_midway_sets[k])\n",
    "\n",
    "        for k in cluster_full_sorted_cell_types:\n",
    "            if k in cluster_full_raw_count_stats:\n",
    "                results_dict[k+\"_CB\"]=cluster_full_raw_count_stats[k][0]\n",
    "                results_dict[k+\"_CB_Total\"]=self.illumina_sample_info.cluster_full_stats_pacbio_intersect[k]\n",
    "        \n",
    "        results_dict[\"NSupportingPB_UMI_counts\"]=sum(\n",
    "            v[1] \n",
    "            for k,v in cluster_midway_raw_count_stats.items()\n",
    "            if k!=\"_PB_CB_filtered\"\n",
    "        )\n",
    "        results_dict[\"NSupportingCommonCB_UMI_counts\"]=sum(\n",
    "            v[1]\n",
    "            for k,v in cluster_midway_raw_count_stats.items()\n",
    "            if k not in [\"_PB_CB_filtered\",\"_PB_CB_not_found_in_IL\"]\n",
    "        )\n",
    "        \n",
    "        for k in sample_condition_sorted_cell_types:\n",
    "            if k in sample_condition_raw_count_stats:\n",
    "                results_dict[k+\"_UMI_counts\"]=sample_condition_raw_count_stats[k][1]\n",
    "                \n",
    "        for k in cluster_midway_sorted_cell_types:\n",
    "            if k in cluster_midway_raw_count_stats:\n",
    "                results_dict[k+\"_UMI_counts\"]=cluster_midway_raw_count_stats[k][1]\n",
    "\n",
    "\n",
    "        for k in cluster_full_sorted_cell_types:\n",
    "            if k in cluster_full_raw_count_stats:\n",
    "                results_dict[k+\"_UMI_counts\"]=cluster_full_raw_count_stats[k][1]\n",
    "\n",
    "        for k in sample_condition_sorted_cell_types:\n",
    "            if k in sample_condition_data_stats:\n",
    "                results_dict[k+\"_UMI_data\"]=sample_condition_data_stats[k][1]\n",
    "                \n",
    "        for k in cluster_midway_sorted_cell_types:\n",
    "            if k in cluster_midway_data_stats:\n",
    "                results_dict[k+\"_UMI_data\"]=cluster_midway_data_stats[k][1]\n",
    "\n",
    "\n",
    "        for k in cluster_full_sorted_cell_types:\n",
    "            if k in cluster_full_data_stats:\n",
    "                results_dict[k+\"_UMI_data\"]=cluster_full_data_stats[k][1]\n",
    "                    \n",
    "        for k,v in results_dict.items():\n",
    "            table_dict[k].append(v)\n",
    "    return counts_matrix_ad, data_matrix_ad,pd.DataFrame(table_dict)\n",
    "\n",
    "gene_counts_matrix_ad, gene_data_matrix_ad, simplified_gene_level_table=\\\n",
    "make_simplified_gene_level_table(giv2,simplified_isoform_level_table_unfiltered,isoform_counts_ad)"
   ]
  }
 ],
 "metadata": {
  "kernelspec": {
   "display_name": "bio",
   "language": "python",
   "name": "python3"
  },
  "language_info": {
   "codemirror_mode": {
    "name": "ipython",
    "version": 3
   },
   "file_extension": ".py",
   "mimetype": "text/x-python",
   "name": "python",
   "nbconvert_exporter": "python",
   "pygments_lexer": "ipython3",
   "version": "3.8.13"
  },
  "toc": {
   "base_numbering": 1,
   "nav_menu": {},
   "number_sections": true,
   "sideBar": true,
   "skip_h1_title": false,
   "title_cell": "Table of Contents",
   "title_sidebar": "Contents",
   "toc_cell": false,
   "toc_position": {
    "height": "calc(100% - 180px)",
    "left": "10px",
    "top": "150px",
    "width": "269.161px"
   },
   "toc_section_display": true,
   "toc_window_display": true
  }
 },
 "nbformat": 4,
 "nbformat_minor": 4
}
